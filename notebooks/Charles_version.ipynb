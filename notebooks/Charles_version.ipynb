{
 "cells": [
  {
   "cell_type": "code",
   "execution_count": null,
   "metadata": {},
   "outputs": [],
   "source": [
    "%load_ext autoreload\n",
    "%autoreload 2"
   ]
  },
  {
   "cell_type": "code",
   "execution_count": null,
   "metadata": {
    "colab": {
     "base_uri": "https://localhost:8080/"
    },
    "executionInfo": {
     "elapsed": 12678,
     "status": "ok",
     "timestamp": 1651491962772,
     "user": {
      "displayName": "benedicte rispal",
      "userId": "05322587411457809937"
     },
     "user_tz": -120
    },
    "id": "EKvOM0KIZrhw",
    "outputId": "9d862f03-8646-46f5-91f3-9e2e928dbbf0"
   },
   "outputs": [],
   "source": [
    "pip install -r requirements.txt"
   ]
  },
  {
   "cell_type": "markdown",
   "metadata": {
    "id": "4_zNEamkW2P7"
   },
   "source": [
    "## Build dataset"
   ]
  },
  {
   "cell_type": "code",
   "execution_count": null,
   "metadata": {},
   "outputs": [],
   "source": [
    "from src.surfnet_train.data.data_processing import get_annotations_from_files, get_annotations_from_db\n",
    "from src.surfnet_train.data.data_processing import generate_yolo_files, get_train_valid, build_yolo_annotations_for_images\n",
    "from pathlib import Path"
   ]
  },
  {
   "cell_type": "code",
   "execution_count": null,
   "metadata": {},
   "outputs": [],
   "source": [
    "from argparse import Namespace\n",
    "args = Namespace(\n",
    "    data_dir=\"/home/charles/Programs/surfrider/yolov5_train_test/data/test_data/\",\n",
    "    images_dir=\"/home/charles/Programs/surfrider/surfnet/data/images/images/\",\n",
    "    bbox_filename=\"bounding_boxes_202206171635.csv\",\n",
    "    images_filename=\"images_for_labelling_202206171635.csv\",\n",
    "    limit_data=40\n",
    ")"
   ]
  },
  {
   "cell_type": "code",
   "execution_count": null,
   "metadata": {},
   "outputs": [],
   "source": [
    "df_bboxes, df_images = get_annotations_from_files(Path(args.data_dir),\n",
    "                                                  args.bbox_filename,\n",
    "                                                  args.images_filename)"
   ]
  },
  {
   "cell_type": "code",
   "execution_count": 66,
   "metadata": {},
   "outputs": [],
   "source": [
    "# images that were already processed\n",
    "from src.surfnet_train.data.data_processing import find_img_ids_to_exclude\n",
    "to_exclude = find_img_ids_to_exclude(args.data_dir)"
   ]
  },
  {
   "cell_type": "code",
   "execution_count": 69,
   "metadata": {
    "colab": {
     "base_uri": "https://localhost:8080/",
     "height": 530
    },
    "executionInfo": {
     "elapsed": 19,
     "status": "ok",
     "timestamp": 1651479113301,
     "user": {
      "displayName": "benedicte rispal",
      "userId": "05322587411457809937"
     },
     "user_tz": -120
    },
    "id": "DE35ZqV8c2oR",
    "outputId": "3eff11aa-3d03-4a8b-8749-384475827842"
   },
   "outputs": [
    {
     "name": "stdout",
     "output_type": "stream",
     "text": [
      "number of images in images folder: 5233\n",
      "number of images referenced in database: 7484\n",
      "number of images with a bbox in database: 6161\n",
      "after exclusion, number of images with a bbox in database: 6121\n"
     ]
    }
   ],
   "source": [
    "yolo_filelist, cpos, cneg = build_yolo_annotations_for_images(args.data_dir, args.images_dir, \n",
    "                                                              df_bboxes, df_images, args.limit_data, to_exclude)"
   ]
  },
  {
   "cell_type": "code",
   "execution_count": null,
   "metadata": {},
   "outputs": [],
   "source": [
    "# split train test\n",
    "train_files, val_files = get_train_valid(yolo_filelist)"
   ]
  },
  {
   "cell_type": "code",
   "execution_count": null,
   "metadata": {
    "colab": {
     "base_uri": "https://localhost:8080/"
    },
    "executionInfo": {
     "elapsed": 411,
     "status": "ok",
     "timestamp": 1651479798440,
     "user": {
      "displayName": "benedicte rispal",
      "userId": "05322587411457809937"
     },
     "user_tz": -120
    },
    "id": "-fZT4PIZiXeJ",
    "outputId": "08a89c94-20ab-4ec6-b51a-80f47b365b37"
   },
   "outputs": [],
   "source": [
    "# generates data.yaml, train.txt, val.txt\n",
    "generate_yolo_files(args.data_dir, train_files, val_files)"
   ]
  },
  {
   "cell_type": "markdown",
   "metadata": {
    "id": "8U7ynCy0ZhT9"
   },
   "source": [
    "## Training\n",
    "\n",
    "command to run in yolo folder"
   ]
  },
  {
   "cell_type": "code",
   "execution_count": null,
   "metadata": {
    "colab": {
     "base_uri": "https://localhost:8080/"
    },
    "executionInfo": {
     "elapsed": 2453590,
     "status": "ok",
     "timestamp": 1651240248550,
     "user": {
      "displayName": "benedicte rispal",
      "userId": "05322587411457809937"
     },
     "user_tz": -120
    },
    "id": "V5ngYYvUcKFb",
    "outputId": "cd720ebc-acd5-48cf-c826-de207a46e39f"
   },
   "outputs": [],
   "source": [
    "python train.py --img 640 --hyp \"data/hyps/hyp_surfnet.yaml\" --batch 8 --epochs 2 --data \"/datadrive/data/data_20062022/data.yaml\" --weights \"yolov5s.pt\" --workers 7 --project \"cha\" --name \"yolo_cha_test\" --exist-ok"
   ]
  }
 ],
 "metadata": {
  "accelerator": "GPU",
  "colab": {
   "authorship_tag": "ABX9TyMm6b8R2P9g1UcZQUsNTsC/",
   "collapsed_sections": [],
   "machine_shape": "hm",
   "name": "My_Yolov5.ipynb",
   "provenance": []
  },
  "kernelspec": {
   "display_name": "Python 3 (ipykernel)",
   "language": "python",
   "name": "python3"
  },
  "language_info": {
   "codemirror_mode": {
    "name": "ipython",
    "version": 3
   },
   "file_extension": ".py",
   "mimetype": "text/x-python",
   "name": "python",
   "nbconvert_exporter": "python",
   "pygments_lexer": "ipython3",
   "version": "3.8.8"
  },
  "toc": {
   "base_numbering": 1,
   "nav_menu": {},
   "number_sections": true,
   "sideBar": true,
   "skip_h1_title": false,
   "title_cell": "Table of Contents",
   "title_sidebar": "Contents",
   "toc_cell": false,
   "toc_position": {},
   "toc_section_display": true,
   "toc_window_display": false
  }
 },
 "nbformat": 4,
 "nbformat_minor": 1
}
