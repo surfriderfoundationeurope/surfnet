{
 "cells": [
  {
   "cell_type": "code",
   "execution_count": null,
   "metadata": {},
   "outputs": [],
   "source": [
    "%load_ext autoreload\n",
    "%autoreload 2"
   ]
  },
  {
   "cell_type": "code",
   "execution_count": null,
   "metadata": {
    "colab": {
     "base_uri": "https://localhost:8080/"
    },
    "executionInfo": {
     "elapsed": 12678,
     "status": "ok",
     "timestamp": 1651491962772,
     "user": {
      "displayName": "benedicte rispal",
      "userId": "05322587411457809937"
     },
     "user_tz": -120
    },
    "id": "EKvOM0KIZrhw",
    "outputId": "9d862f03-8646-46f5-91f3-9e2e928dbbf0"
   },
   "outputs": [],
   "source": [
    "pip install -r requirements.txt"
   ]
  },
  {
   "cell_type": "markdown",
   "metadata": {
    "id": "4_zNEamkW2P7"
   },
   "source": [
    "## Build dataset"
   ]
  },
  {
   "cell_type": "code",
   "execution_count": null,
   "metadata": {},
   "outputs": [],
   "source": [
    "from src.surfnet_train.data.data_processing import get_annotations_from_files, get_annotations_from_db\n",
    "from src.surfnet_train.data.data_processing import generate_yolo_files, get_train_valid, build_yolo_annotations_for_images\n",
    "from pathlib import Path"
   ]
  },
  {
   "cell_type": "code",
   "execution_count": null,
   "metadata": {},
   "outputs": [],
   "source": [
    "from argparse import Namespace\n",
    "args = Namespace(\n",
    "    data_dir=\"/home/charles/Programs/surfrider/yolov5_train_test/data/test_data/\",\n",
    "    images_dir=\"/home/charles/Programs/surfrider/surfnet/data/images/images/\",\n",
    "    bbox_filename=\"bounding_boxes_202206171635.csv\",\n",
    "    images_filename=\"images_for_labelling_202206171635.csv\",\n",
    "    limit_data=40\n",
    ")"
   ]
  },
  {
   "cell_type": "code",
   "execution_count": null,
   "metadata": {},
   "outputs": [],
   "source": [
    "df_bboxes, df_images = get_annotations_from_files(Path(args.data_dir),\n",
    "                                                  args.bbox_filename,\n",
    "                                                  args.images_filename)"
   ]
  },
  {
   "cell_type": "code",
   "execution_count": null,
   "metadata": {
    "colab": {
     "base_uri": "https://localhost:8080/",
     "height": 530
    },
    "executionInfo": {
     "elapsed": 19,
     "status": "ok",
     "timestamp": 1651479113301,
     "user": {
      "displayName": "benedicte rispal",
      "userId": "05322587411457809937"
     },
     "user_tz": -120
    },
    "id": "DE35ZqV8c2oR",
    "outputId": "3eff11aa-3d03-4a8b-8749-384475827842"
   },
   "outputs": [],
   "source": [
    "yolo_filelist, cpos, cneg = build_yolo_annotations_for_images(args.data_dir, args.images_dir, \n",
    "                                                              df_bboxes, df_images, args.limit_data)"
   ]
  },
  {
   "cell_type": "code",
   "execution_count": null,
   "metadata": {},
   "outputs": [],
   "source": [
    "# split train test\n",
    "train_files, val_files = get_train_valid(yolo_filelist)"
   ]
  },
  {
   "cell_type": "code",
   "execution_count": null,
   "metadata": {
    "colab": {
     "base_uri": "https://localhost:8080/"
    },
    "executionInfo": {
     "elapsed": 411,
     "status": "ok",
     "timestamp": 1651479798440,
     "user": {
      "displayName": "benedicte rispal",
      "userId": "05322587411457809937"
     },
     "user_tz": -120
    },
    "id": "-fZT4PIZiXeJ",
    "outputId": "08a89c94-20ab-4ec6-b51a-80f47b365b37"
   },
   "outputs": [],
   "source": [
    "# generates data.yaml, train.txt, val.txt\n",
    "generate_yolo_files(args.data_dir, train_files, val_files)"
   ]
  },
  {
   "cell_type": "markdown",
   "metadata": {
    "id": "8U7ynCy0ZhT9"
   },
   "source": [
    "## Training"
   ]
  },
  {
   "cell_type": "code",
   "execution_count": null,
   "metadata": {
    "colab": {
     "base_uri": "https://localhost:8080/"
    },
    "executionInfo": {
     "elapsed": 397,
     "status": "ok",
     "timestamp": 1651136506065,
     "user": {
      "displayName": "benedicte rispal",
      "userId": "05322587411457809937"
     },
     "user_tz": -120
    },
    "id": "tgbKkp4_-v8O",
    "outputId": "ff3c4cd0-be49-4b6a-a465-30996916609f"
   },
   "outputs": [],
   "source": [
    "!git clone https://github.com/ultralytics/yolov5.git"
   ]
  },
  {
   "cell_type": "code",
   "execution_count": null,
   "metadata": {
    "colab": {
     "base_uri": "https://localhost:8080/"
    },
    "executionInfo": {
     "elapsed": 504,
     "status": "ok",
     "timestamp": 1651237752046,
     "user": {
      "displayName": "benedicte rispal",
      "userId": "05322587411457809937"
     },
     "user_tz": -120
    },
    "id": "TRSnMp4Y-HKK",
    "outputId": "277c61b5-202b-4ecf-bc35-c9b811169243"
   },
   "outputs": [],
   "source": [
    "%%writefile yolov5/data/hyps/hyp.scratch.yaml\n",
    "\n",
    "# YOLOv5 🚀 by Ultralytics, GPL-3.0 license\n",
    "# Hyperparameters for COCO training from scratch\n",
    "# python train.py --batch 40 --cfg yolov5m.yaml --weights '' --data coco.yaml --img 640 --epochs 300\n",
    "# See tutorials for hyperparameter evolution https://github.com/ultralytics/yolov5#tutorials\n",
    "\n",
    "lr0: 0.01  # initial learning rate (SGD=1E-2, Adam=1E-3)\n",
    "lrf: 0.1  # final OneCycleLR learning rate (lr0 * lrf)\n",
    "momentum: 0.937  # SGD momentum/Adam beta1\n",
    "weight_decay: 0.0005  # optimizer weight decay 5e-4\n",
    "warmup_epochs: 3.0  # warmup epochs (fractions ok)\n",
    "warmup_momentum: 0.8  # warmup initial momentum\n",
    "warmup_bias_lr: 0.1  # warmup initial bias lr\n",
    "box: 0.05  # box loss gain\n",
    "cls: 0.5  # cls loss gain\n",
    "cls_pw: 1.0  # cls BCELoss positive_weight\n",
    "obj: 1.0  # obj loss gain (scale with pixels)\n",
    "obj_pw: 1.0  # obj BCELoss positive_weight\n",
    "iou_t: 0.20  # IoU training threshold\n",
    "anchor_t: 4.0  # anchor-multiple threshold\n",
    "# anchors: 3  # anchors per output layer (0 to ignore)\n",
    "fl_gamma: 0.0  # focal loss gamma (efficientDet default gamma=1.5)\n",
    "hsv_h: 0.012  # image HSV-Hue augmentation (fraction)\n",
    "hsv_s: 0.6  # image HSV-Saturation augmentation (fraction)\n",
    "hsv_v: 0.3  # image HSV-Value augmentation (fraction)\n",
    "degrees: 2.0  # image rotation (+/- deg)\n",
    "translate: 0.3  # image translation (+/- fraction)\n",
    "scale: 0.25  # image scale (+/- gain)\n",
    "shear: 0.0  # image shear (+/- deg)\n",
    "perspective: 0.0  # image perspective (+/- fraction), range 0-0.001\n",
    "flipud: 0.1  # image flip up-down (probability)\n",
    "fliplr: 0.5  # image flip left-right (probability)\n",
    "mosaic: 0.7  # image mosaic (probability)\n",
    "mixup: 0.0  # image mixup (probability)\n",
    "copy_paste: 0.0  # segment copy-paste (probability)"
   ]
  },
  {
   "cell_type": "markdown",
   "metadata": {
    "id": "DnsdBSFDZnlz"
   },
   "source": [
    "A model trained with higher resolution images can have better results for detecting small objects"
   ]
  },
  {
   "cell_type": "code",
   "execution_count": null,
   "metadata": {
    "colab": {
     "base_uri": "https://localhost:8080/"
    },
    "executionInfo": {
     "elapsed": 2453590,
     "status": "ok",
     "timestamp": 1651240248550,
     "user": {
      "displayName": "benedicte rispal",
      "userId": "05322587411457809937"
     },
     "user_tz": -120
    },
    "id": "V5ngYYvUcKFb",
    "outputId": "cd720ebc-acd5-48cf-c826-de207a46e39f"
   },
   "outputs": [],
   "source": [
    "!python \"yolov5/train.py\" --img 640 --hyp \"yolov5/data/hyps/hyp.scratch.yaml\" --batch 32 --epochs 30 --data \"data.yaml\" --weights \"yolov5s.pt\" --workers 23 --project \"ben\" --name \"yolo_ben_30_I&L\" --exist-ok "
   ]
  },
  {
   "cell_type": "code",
   "execution_count": null,
   "metadata": {
    "colab": {
     "base_uri": "https://localhost:8080/"
    },
    "executionInfo": {
     "elapsed": 9,
     "status": "ok",
     "timestamp": 1651243989883,
     "user": {
      "displayName": "benedicte rispal",
      "userId": "05322587411457809937"
     },
     "user_tz": -120
    },
    "id": "EWsqlyh9z4ir",
    "outputId": "bd3fa413-69aa-417e-d133-ebe313c33deb"
   },
   "outputs": [],
   "source": [
    "ls"
   ]
  },
  {
   "cell_type": "code",
   "execution_count": null,
   "metadata": {
    "colab": {
     "base_uri": "https://localhost:8080/"
    },
    "executionInfo": {
     "elapsed": 1668186,
     "status": "ok",
     "timestamp": 1651050674798,
     "user": {
      "displayName": "benedicte rispal",
      "userId": "05322587411457809937"
     },
     "user_tz": -120
    },
    "id": "QLbHj7F1-MlH",
    "outputId": "d0e3759c-edd4-49e9-950b-32746e256527"
   },
   "outputs": [],
   "source": [
    "!python \"yolov5/train.py\" --img 640 --hyp \"yolov5/data/hyps/hyp.scratch.yaml\" --batch 20 --epochs 30 --data \"data.yaml\" --weights \"yolov5s.pt\" --workers 23 --project \"ben\" --name \"yolo_ben_1\" --exist-ok "
   ]
  },
  {
   "cell_type": "code",
   "execution_count": null,
   "metadata": {
    "colab": {
     "base_uri": "https://localhost:8080/"
    },
    "executionInfo": {
     "elapsed": 8,
     "status": "ok",
     "timestamp": 1651139014510,
     "user": {
      "displayName": "benedicte rispal",
      "userId": "05322587411457809937"
     },
     "user_tz": -120
    },
    "id": "X3zw2u_ZcTyC",
    "outputId": "3c78a602-00ab-44d6-b0e8-6fc88c3af3bf"
   },
   "outputs": [],
   "source": [
    "!python \"yolov5/train.py\" --img 640 --hyp \"yolov5/data/hyps/hyp.scratch.yaml\" --batch 64 --epochs 100 --data \"data.yaml\" --weights \"yolov5s.pt\" --workers 23 --project \"ben\" --name \"yolo_ben_100\" --exist-ok --device 0"
   ]
  },
  {
   "cell_type": "code",
   "execution_count": null,
   "metadata": {
    "colab": {
     "base_uri": "https://localhost:8080/"
    },
    "executionInfo": {
     "elapsed": 6706,
     "status": "ok",
     "timestamp": 1651137896541,
     "user": {
      "displayName": "benedicte rispal",
      "userId": "05322587411457809937"
     },
     "user_tz": -120
    },
    "id": "P35OOren_A3V",
    "outputId": "6962ec57-4793-4b70-ff85-6039d5ea034c"
   },
   "outputs": [],
   "source": [
    "!python \"yolov5/train.py\" --img 640 --hyp \"yolov5/data/hyps/hyp.scratch.yaml\" --batch 32 --epochs 50 --data \"data.yaml\" --weights \"yolov5s.pt\" --workers 23 --project \"ben\" --name \"yolo_ben_2\" --exist-ok  --device 0"
   ]
  },
  {
   "cell_type": "markdown",
   "metadata": {
    "id": "hw2_Y5g8bJF4"
   },
   "source": [
    "add smthg to device ; une des variables pas dans le GPU "
   ]
  },
  {
   "cell_type": "code",
   "execution_count": null,
   "metadata": {
    "colab": {
     "base_uri": "https://localhost:8080/"
    },
    "executionInfo": {
     "elapsed": 213,
     "status": "ok",
     "timestamp": 1650885046561,
     "user": {
      "displayName": "benedicte rispal",
      "userId": "05322587411457809937"
     },
     "user_tz": -120
    },
    "id": "Aor8lM2M_HZ_",
    "outputId": "646582bc-e27b-431c-b097-b7ec845d18d3"
   },
   "outputs": [],
   "source": [
    "!python \"yolov5/train.py\" --img 640 --hyp \"yolov5/data/hyps/hyp.scratch.yaml\" --batch 32 --epochs 10 0 --data \"data.yaml\" --weights \"yolov5s.pt\" --workers 23 -"
   ]
  }
 ],
 "metadata": {
  "accelerator": "GPU",
  "colab": {
   "authorship_tag": "ABX9TyMm6b8R2P9g1UcZQUsNTsC/",
   "collapsed_sections": [],
   "machine_shape": "hm",
   "name": "My_Yolov5.ipynb",
   "provenance": []
  },
  "kernelspec": {
   "display_name": "Python 3 (ipykernel)",
   "language": "python",
   "name": "python3"
  },
  "language_info": {
   "codemirror_mode": {
    "name": "ipython",
    "version": 3
   },
   "file_extension": ".py",
   "mimetype": "text/x-python",
   "name": "python",
   "nbconvert_exporter": "python",
   "pygments_lexer": "ipython3",
   "version": "3.8.8"
  },
  "toc": {
   "base_numbering": 1,
   "nav_menu": {},
   "number_sections": true,
   "sideBar": true,
   "skip_h1_title": false,
   "title_cell": "Table of Contents",
   "title_sidebar": "Contents",
   "toc_cell": false,
   "toc_position": {},
   "toc_section_display": true,
   "toc_window_display": false
  }
 },
 "nbformat": 4,
 "nbformat_minor": 1
}
